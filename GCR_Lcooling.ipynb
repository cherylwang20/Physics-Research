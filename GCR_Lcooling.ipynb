{
 "cells": [
  {
   "cell_type": "code",
   "execution_count": 103,
   "id": "440c9223",
   "metadata": {},
   "outputs": [
    {
     "name": "stdout",
     "output_type": "stream",
     "text": [
      "Outer Boundary is: 9677486564.73533\n",
      "The core radius is: 338000000.0\n",
      "3870994625.894134\n",
      "Rho_ne is :2.609549366104725e-09\n",
      "Ratio is: 1.1196413208207685\n",
      "The Atmospheric mass is: 1.5280228998799239e+22g\n",
      "Mass core: 6.4171e+26g\n",
      "GCR is: 2.381173582895582e-05\n",
      "0.10730936454849498\n"
     ]
    }
   ],
   "source": [
    "#%reset\n",
    "import numpy as np\n",
    "import matplotlib.pyplot as plt\n",
    "import matplotlib\n",
    "from matplotlib.pyplot import figure\n",
    "import matplotlib.transforms as transforms\n",
    "from scipy import integrate\n",
    "import scipy\n",
    "\n",
    "SMALL_SIZE = 10\n",
    "matplotlib.rc('font',size = SMALL_SIZE, family = 'Arial')\n",
    "matplotlib.rc('axes',titlesize = SMALL_SIZE)\n",
    "\n",
    "\n",
    "#define distance to sun/star\n",
    "a = np.linspace(0.1, 6.0, 100) #[AU]\n",
    "\n",
    "hfont = {'fontname':'Helvetica'}\n",
    "\n",
    "\n",
    "\n",
    "#define constants \n",
    "mu = 2.34\n",
    "m_p = 1.67*10**(-24) #[g]\n",
    "k_B = 1.38*10**(-16)#[erg/K]\n",
    "G = 6.67408 * 10**(-8) #[dyne cm^2/g^2]\n",
    "M_mars = 0.64171*10**(27) #[g]\n",
    "M_sun = 1.989*10**(33) #[g]\n",
    "M_earth = 5.98*10**27 #[g]\n",
    "R_E = 6.378*10**8 #[cm]\n",
    "autocm = 1.496*10**(13)\n",
    "\n",
    "#define parameters of Mars\n",
    "P_bot = 10**6 #[Ba] \n",
    "R_bot = 3.38*10**8 #[cm] https://www.sciencedirect.com/topics/physics-and-astronomy/planetary-cores\n",
    "\n",
    "T_0 = 1000\n",
    "\n",
    "#define temperature\n",
    "def T_disk(a):\n",
    "    return T_0*(a/0.1)**(-3/7) #[K]\n",
    "\n",
    "def Cs_disk(a):\n",
    "    return np.sqrt(k_B*T_disk(a)/mu/m_p) #CHECK UNITS [cm/s]\n",
    "\n",
    "def Par(a, M):  \n",
    "    #compute the R_out based on Boundy/Hill Radisu\n",
    "    R_H = a*(M/3/M_sun)**(1/3)*autocm #cm\n",
    "    R_B = G*M/Cs_disk(a)**2 #cm\n",
    "    \n",
    "    if type(a) is float:\n",
    "        R_out = [0]\n",
    "        R_out = min(R_H,R_B)\n",
    "        R_out_E = R_out/R_E\n",
    "    else:\n",
    "        R_out = [0]*len(R_H)\n",
    "        for i in range(len(R_H)):\n",
    "            R_out[i] = min(R_B[i],R_H[i])\n",
    "        #Bondi Radius always smaller\n",
    "        R_out_E = [i/R_E for i in R_out]\n",
    "    print(R_out)\n",
    "    \n",
    "    A = G*M/Cs_disk(a)**2 #CHECK UNITS [cm]\n",
    "\n",
    "\n",
    "    exp = np.exp(-A/R_out + A/R_bot)\n",
    "    rho_bot = P_bot/Cs_disk(a)**2 #[g/cm^3]\n",
    "    rho_ne = rho_bot/exp\n",
    "    \n",
    "    return A, rho_bot, R_out, rho_ne\n",
    "\n",
    "\n",
    "def M_int(x):\n",
    "    A, rho_bot, R_mars, rho_ne= Par(1.5, M_mars)\n",
    "    print(f'Rho_ne is :{rho_ne}')\n",
    "    print(f'Ratio is: {rho_ne/(6*10**(-6)*15**(-2.9))}')\n",
    "    return 4*np.pi*rho_ne*(x**2*np.exp(A/R_mars - A/x))\n",
    "\n",
    "\n",
    "x = np.linspace(R_bot*1.001, R_out, 1000) # check to change to log spacing\n",
    "print(f'Outer Boundary is: {R_out}')\n",
    "print(f'The core radius is: {R_bot}')\n",
    "y1 = M_int(x)\n",
    "                         \n",
    "M = integrate.simpson(y1, x)\n",
    "GCR = M/M_mars\n",
    "print(f'The Atmospheric mass is: {M}g')\n",
    "print(f'Mass core: {M_mars}g')\n",
    "print(f'GCR is: {M/M_mars}')\n",
    "print(M_mars/M_earth)\n"
   ]
  },
  {
   "cell_type": "code",
   "execution_count": 123,
   "id": "13c31b3b",
   "metadata": {
    "scrolled": false
   },
   "outputs": [
    {
     "name": "stdout",
     "output_type": "stream",
     "text": [
      "3870994625.894134\n",
      "rho MMEN is:2.3307011965151114e-09\n",
      "ratio of rho is:1.1196413208207685\n",
      "Temperature is: 3.133e+02K\n",
      "The Cooling Luminosity is: 1.358e+25 erg/s\n",
      "The outer boundary is: 6.069292295224418\n"
     ]
    }
   ],
   "source": [
    "kappa = 1\n",
    "rho = GCR*M_mars\n",
    "T_rcb = 1000*(1.5 /0.1)**(-3/7)\n",
    "A, rho_bot, R_mars, rho_ne= Par(1.5, M_mars)\n",
    "rho_MMEN = 6*10**(-6)*(1.5/0.1)**(-2.9)\n",
    "print(f'rho MMEN is:{rho_MMEN}')\n",
    "print(f'ratio of rho is:{rho_ne/rho_MMEN}')\n",
    "print(f'Temperature is: {T_rcb:.3e}K')\n",
    "Dad = 0.25\n",
    "sb = 5.670374 * 10**(-5)\n",
    "L = 64*np.pi*G*(1+GCR)*M_mars*sb*T_rcb**3*mu*m_p*Dad/(3*k_B*rho_ne*kappa)\n",
    "print(f'The Cooling Luminosity is: {L:.3e} erg/s')\n",
    "print(f'The outer boundary is: {R_mars/R_E}')"
   ]
  },
  {
   "cell_type": "code",
   "execution_count": 131,
   "id": "0670ce8c",
   "metadata": {},
   "outputs": [
    {
     "name": "stdout",
     "output_type": "stream",
     "text": [
      "3870994625.894134\n",
      "rho MMEN is:2.3307011965151114e-09\n",
      "ratio of rho is:1.1196413208207685\n",
      "Temperature is: 2.500e+03K\n",
      "rho ne is: 2.609549366104725e-09\n",
      "The Cooling Luminosity is: 4.090e+28 erg/s\n",
      "The outer boundary is: 6.069292295224418\n"
     ]
    }
   ],
   "source": [
    "kappa = 1\n",
    "\n",
    "T_rcb = 2500\n",
    "A, rho_bot, R_mars, rho_ne= Par(1.5, M_mars)\n",
    "rho = GCR*M_mars/(4*np.pi*R_mars**3)\n",
    "rho_MMEN = 6*10**(-6)*(1.5/0.1)**(-2.9)\n",
    "print(f'rho MMEN is:{rho_MMEN}')\n",
    "print(f'ratio of rho is:{rho_ne/rho_MMEN}')\n",
    "print(f'Temperature is: {T_rcb:.3e}K')\n",
    "Dad = 0.25\n",
    "sb = 5.670374 * 10**(-5)\n",
    "print(f'rho ne is: {rho_ne}')\n",
    "L = 64*np.pi*G*(1+GCR)*M_mars*sb*T_rcb**3*mu*m_p*Dad/(3*k_B*rho*kappa)\n",
    "print(f'The Cooling Luminosity is: {L:.3e} erg/s')\n",
    "print(f'The outer boundary is: {R_mars/R_E}')"
   ]
  },
  {
   "cell_type": "code",
   "execution_count": null,
   "id": "f35d759c",
   "metadata": {},
   "outputs": [],
   "source": []
  }
 ],
 "metadata": {
  "kernelspec": {
   "display_name": "Python 3",
   "language": "python",
   "name": "python3"
  },
  "language_info": {
   "codemirror_mode": {
    "name": "ipython",
    "version": 3
   },
   "file_extension": ".py",
   "mimetype": "text/x-python",
   "name": "python",
   "nbconvert_exporter": "python",
   "pygments_lexer": "ipython3",
   "version": "3.7.6"
  }
 },
 "nbformat": 4,
 "nbformat_minor": 5
}
